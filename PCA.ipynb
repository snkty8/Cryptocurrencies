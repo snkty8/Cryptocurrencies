{
 "cells": [
  {
   "cell_type": "code",
   "execution_count": 14,
   "id": "76ea92e1",
   "metadata": {},
   "outputs": [],
   "source": [
    "import pandas as pd\n",
    "from sklearn.preprocessing import StandardScaler\n",
    "from sklearn.decomposition import PCA\n",
    "from sklearn.cluster import KMeans\n",
    "import hvplot.pandas"
   ]
  },
  {
   "cell_type": "code",
   "execution_count": 15,
   "id": "d243a508",
   "metadata": {},
   "outputs": [
    {
     "data": {
      "text/html": [
       "<div>\n",
       "<style scoped>\n",
       "    .dataframe tbody tr th:only-of-type {\n",
       "        vertical-align: middle;\n",
       "    }\n",
       "\n",
       "    .dataframe tbody tr th {\n",
       "        vertical-align: top;\n",
       "    }\n",
       "\n",
       "    .dataframe thead th {\n",
       "        text-align: right;\n",
       "    }\n",
       "</style>\n",
       "<table border=\"1\" class=\"dataframe\">\n",
       "  <thead>\n",
       "    <tr style=\"text-align: right;\">\n",
       "      <th></th>\n",
       "      <th>sepal_length</th>\n",
       "      <th>petal_length</th>\n",
       "      <th>sepal_width</th>\n",
       "      <th>petal_width</th>\n",
       "    </tr>\n",
       "  </thead>\n",
       "  <tbody>\n",
       "    <tr>\n",
       "      <th>0</th>\n",
       "      <td>5.1</td>\n",
       "      <td>1.4</td>\n",
       "      <td>3.5</td>\n",
       "      <td>0.2</td>\n",
       "    </tr>\n",
       "    <tr>\n",
       "      <th>1</th>\n",
       "      <td>4.9</td>\n",
       "      <td>1.4</td>\n",
       "      <td>3.0</td>\n",
       "      <td>0.2</td>\n",
       "    </tr>\n",
       "    <tr>\n",
       "      <th>2</th>\n",
       "      <td>4.7</td>\n",
       "      <td>1.3</td>\n",
       "      <td>3.2</td>\n",
       "      <td>0.2</td>\n",
       "    </tr>\n",
       "    <tr>\n",
       "      <th>3</th>\n",
       "      <td>4.6</td>\n",
       "      <td>1.5</td>\n",
       "      <td>3.1</td>\n",
       "      <td>0.2</td>\n",
       "    </tr>\n",
       "    <tr>\n",
       "      <th>4</th>\n",
       "      <td>5.0</td>\n",
       "      <td>1.4</td>\n",
       "      <td>3.6</td>\n",
       "      <td>0.2</td>\n",
       "    </tr>\n",
       "  </tbody>\n",
       "</table>\n",
       "</div>"
      ],
      "text/plain": [
       "   sepal_length  petal_length  sepal_width  petal_width\n",
       "0           5.1           1.4          3.5          0.2\n",
       "1           4.9           1.4          3.0          0.2\n",
       "2           4.7           1.3          3.2          0.2\n",
       "3           4.6           1.5          3.1          0.2\n",
       "4           5.0           1.4          3.6          0.2"
      ]
     },
     "execution_count": 15,
     "metadata": {},
     "output_type": "execute_result"
    }
   ],
   "source": [
    "# Loading processed iris data \n",
    "file_path = './Resources/new_iris_data.csv'\n",
    "df_iris = pd.read_csv(file_path)\n",
    "df_iris.head()"
   ]
  },
  {
   "cell_type": "code",
   "execution_count": 16,
   "id": "bd93592a",
   "metadata": {},
   "outputs": [
    {
     "name": "stdout",
     "output_type": "stream",
     "text": [
      "[[-0.90068117 -1.3412724   1.03205722 -1.31297673]\n",
      " [-1.14301691 -1.3412724  -0.1249576  -1.31297673]\n",
      " [-1.38535265 -1.39813811  0.33784833 -1.31297673]\n",
      " [-1.50652052 -1.2844067   0.10644536 -1.31297673]\n",
      " [-1.02184904 -1.3412724   1.26346019 -1.31297673]]\n"
     ]
    }
   ],
   "source": [
    "# Standardize data with StandardScaler\n",
    "iris_scaled = StandardScaler().fit_transform(df_iris)\n",
    "print(iris_scaled[0:5])"
   ]
  },
  {
   "cell_type": "code",
   "execution_count": 17,
   "id": "4c7ba224",
   "metadata": {},
   "outputs": [],
   "source": [
    "# Initialize PCA model\n",
    "pca = PCA(n_components=2)"
   ]
  },
  {
   "cell_type": "code",
   "execution_count": 18,
   "id": "263c6b86",
   "metadata": {},
   "outputs": [],
   "source": [
    "# Get two principal components for the iris data.\n",
    "iris_pca = pca.fit_transform(iris_scaled)"
   ]
  },
  {
   "cell_type": "code",
   "execution_count": 19,
   "id": "506a3dac",
   "metadata": {},
   "outputs": [
    {
     "data": {
      "text/html": [
       "<div>\n",
       "<style scoped>\n",
       "    .dataframe tbody tr th:only-of-type {\n",
       "        vertical-align: middle;\n",
       "    }\n",
       "\n",
       "    .dataframe tbody tr th {\n",
       "        vertical-align: top;\n",
       "    }\n",
       "\n",
       "    .dataframe thead th {\n",
       "        text-align: right;\n",
       "    }\n",
       "</style>\n",
       "<table border=\"1\" class=\"dataframe\">\n",
       "  <thead>\n",
       "    <tr style=\"text-align: right;\">\n",
       "      <th></th>\n",
       "      <th>Princple Component 1</th>\n",
       "      <th>Principle Component 2</th>\n",
       "    </tr>\n",
       "  </thead>\n",
       "  <tbody>\n",
       "    <tr>\n",
       "      <th>0</th>\n",
       "      <td>-2.264542</td>\n",
       "      <td>0.505704</td>\n",
       "    </tr>\n",
       "    <tr>\n",
       "      <th>1</th>\n",
       "      <td>-2.086426</td>\n",
       "      <td>-0.655405</td>\n",
       "    </tr>\n",
       "    <tr>\n",
       "      <th>2</th>\n",
       "      <td>-2.367950</td>\n",
       "      <td>-0.318477</td>\n",
       "    </tr>\n",
       "    <tr>\n",
       "      <th>3</th>\n",
       "      <td>-2.304197</td>\n",
       "      <td>-0.575368</td>\n",
       "    </tr>\n",
       "    <tr>\n",
       "      <th>4</th>\n",
       "      <td>-2.388777</td>\n",
       "      <td>0.674767</td>\n",
       "    </tr>\n",
       "  </tbody>\n",
       "</table>\n",
       "</div>"
      ],
      "text/plain": [
       "   Princple Component 1  Principle Component 2\n",
       "0             -2.264542               0.505704\n",
       "1             -2.086426              -0.655405\n",
       "2             -2.367950              -0.318477\n",
       "3             -2.304197              -0.575368\n",
       "4             -2.388777               0.674767"
      ]
     },
     "execution_count": 19,
     "metadata": {},
     "output_type": "execute_result"
    }
   ],
   "source": [
    "# Tranform PCA data into Dataframe\n",
    "df_iris_pca = pd.DataFrame(\n",
    "    data = iris_pca, columns = ['Princple Component 1', 'Principle Component 2'])\n",
    "df_iris_pca.head()"
   ]
  },
  {
   "cell_type": "code",
   "execution_count": 20,
   "id": "656f3366",
   "metadata": {},
   "outputs": [
    {
     "data": {
      "text/plain": [
       "array([0.72770452, 0.23030523])"
      ]
     },
     "execution_count": 20,
     "metadata": {},
     "output_type": "execute_result"
    }
   ],
   "source": [
    "# Fetch the explained variance \n",
    "pca.explained_variance_ratio_"
   ]
  },
  {
   "cell_type": "markdown",
   "id": "5260be93",
   "metadata": {},
   "source": [
    "What this tells us, is that the first principal component contains 72.77% of the variance and the second contains 23.03%. Together, they contain 95.80% of the information."
   ]
  },
  {
   "cell_type": "code",
   "execution_count": 21,
   "id": "f89be87f",
   "metadata": {},
   "outputs": [
    {
     "name": "stderr",
     "output_type": "stream",
     "text": [
      "C:\\Users\\snkty\\anaconda3\\envs\\mlenv\\lib\\site-packages\\sklearn\\cluster\\_kmeans.py:882: UserWarning: KMeans is known to have a memory leak on Windows with MKL, when there are less chunks than available threads. You can avoid it by setting the environment variable OMP_NUM_THREADS=1.\n",
      "  f\"KMeans is known to have a memory leak on Windows \"\n"
     ]
    },
    {
     "data": {},
     "metadata": {},
     "output_type": "display_data"
    },
    {
     "data": {
      "application/vnd.holoviews_exec.v0+json": "",
      "text/html": [
       "<div id='1428'>\n",
       "\n",
       "\n",
       "\n",
       "\n",
       "\n",
       "  <div class=\"bk-root\" id=\"886a9d21-fd5c-4a79-a42d-8dcd203cef9f\" data-root-id=\"1428\"></div>\n",
       "</div>\n",
       "<script type=\"application/javascript\">(function(root) {\n",
       "  function embed_document(root) {\n",
       "    var docs_json = {\"2157f124-9f9f-47d5-a86d-0b78f6560c97\":{\"defs\":[],\"roots\":{\"references\":[{\"attributes\":{\"line_alpha\":0.2,\"line_color\":\"#30a2da\",\"line_width\":2,\"x\":{\"field\":\"k\"},\"y\":{\"field\":\"inertia\"}},\"id\":\"1468\",\"type\":\"Line\"},{\"attributes\":{\"axis\":{\"id\":\"1442\"},\"grid_line_color\":null,\"ticker\":null},\"id\":\"1445\",\"type\":\"Grid\"},{\"attributes\":{},\"id\":\"1478\",\"type\":\"BasicTickFormatter\"},{\"attributes\":{},\"id\":\"1440\",\"type\":\"LinearScale\"},{\"attributes\":{\"callback\":null,\"renderers\":[{\"id\":\"1469\"}],\"tags\":[\"hv_created\"],\"tooltips\":[[\"k\",\"@{k}\"],[\"inertia\",\"@{inertia}\"]]},\"id\":\"1432\",\"type\":\"HoverTool\"},{\"attributes\":{\"margin\":[5,5,5,5],\"name\":\"HSpacer02475\",\"sizing_mode\":\"stretch_width\"},\"id\":\"1499\",\"type\":\"Spacer\"},{\"attributes\":{\"axis_label\":\"k\",\"formatter\":{\"id\":\"1473\"},\"major_label_policy\":{\"id\":\"1474\"},\"ticker\":{\"id\":\"1472\"}},\"id\":\"1442\",\"type\":\"LinearAxis\"},{\"attributes\":{\"end\":629.4448064337398,\"reset_end\":629.4448064337398,\"reset_start\":-26.222644744436852,\"start\":-26.222644744436852,\"tags\":[[[\"inertia\",\"inertia\",null]]]},\"id\":\"1431\",\"type\":\"Range1d\"},{\"attributes\":{\"end\":10.0,\"reset_end\":10.0,\"reset_start\":1.0,\"start\":1.0,\"tags\":[[[\"k\",\"k\",null]]]},\"id\":\"1430\",\"type\":\"Range1d\"},{\"attributes\":{},\"id\":\"1479\",\"type\":\"AllLabels\"},{\"attributes\":{},\"id\":\"1488\",\"type\":\"UnionRenderers\"},{\"attributes\":{\"line_alpha\":0.1,\"line_color\":\"#30a2da\",\"line_width\":2,\"x\":{\"field\":\"k\"},\"y\":{\"field\":\"inertia\"}},\"id\":\"1467\",\"type\":\"Line\"},{\"attributes\":{\"axis\":{\"id\":\"1446\"},\"dimension\":1,\"grid_line_color\":null,\"ticker\":null},\"id\":\"1449\",\"type\":\"Grid\"},{\"attributes\":{\"active_multi\":null,\"tools\":[{\"id\":\"1432\"},{\"id\":\"1450\"},{\"id\":\"1451\"},{\"id\":\"1452\"},{\"id\":\"1453\"},{\"id\":\"1454\"}]},\"id\":\"1456\",\"type\":\"Toolbar\"},{\"attributes\":{},\"id\":\"1447\",\"type\":\"BasicTicker\"},{\"attributes\":{\"line_color\":\"#30a2da\",\"line_width\":2,\"x\":{\"field\":\"k\"},\"y\":{\"field\":\"inertia\"}},\"id\":\"1471\",\"type\":\"Line\"},{\"attributes\":{\"bottom_units\":\"screen\",\"fill_alpha\":0.5,\"fill_color\":\"lightgrey\",\"left_units\":\"screen\",\"level\":\"overlay\",\"line_alpha\":1.0,\"line_color\":\"black\",\"line_dash\":[4,4],\"line_width\":2,\"right_units\":\"screen\",\"syncable\":false,\"top_units\":\"screen\"},\"id\":\"1455\",\"type\":\"BoxAnnotation\"},{\"attributes\":{\"below\":[{\"id\":\"1442\"}],\"center\":[{\"id\":\"1445\"},{\"id\":\"1449\"}],\"height\":300,\"left\":[{\"id\":\"1446\"}],\"margin\":[5,5,5,5],\"min_border_bottom\":10,\"min_border_left\":10,\"min_border_right\":10,\"min_border_top\":10,\"renderers\":[{\"id\":\"1469\"}],\"sizing_mode\":\"fixed\",\"title\":{\"id\":\"1434\"},\"toolbar\":{\"id\":\"1456\"},\"width\":700,\"x_range\":{\"id\":\"1430\"},\"x_scale\":{\"id\":\"1438\"},\"y_range\":{\"id\":\"1431\"},\"y_scale\":{\"id\":\"1440\"}},\"id\":\"1433\",\"subtype\":\"Figure\",\"type\":\"Plot\"},{\"attributes\":{\"source\":{\"id\":\"1463\"}},\"id\":\"1470\",\"type\":\"CDSView\"},{\"attributes\":{\"data_source\":{\"id\":\"1463\"},\"glyph\":{\"id\":\"1466\"},\"hover_glyph\":null,\"muted_glyph\":{\"id\":\"1468\"},\"nonselection_glyph\":{\"id\":\"1467\"},\"selection_glyph\":{\"id\":\"1471\"},\"view\":{\"id\":\"1470\"}},\"id\":\"1469\",\"type\":\"GlyphRenderer\"},{\"attributes\":{},\"id\":\"1438\",\"type\":\"LinearScale\"},{\"attributes\":{\"axis_label\":\"inertia\",\"formatter\":{\"id\":\"1478\"},\"major_label_policy\":{\"id\":\"1479\"},\"ticker\":{\"id\":\"1447\"}},\"id\":\"1446\",\"type\":\"LinearAxis\"},{\"attributes\":{\"line_color\":\"#30a2da\",\"line_width\":2,\"x\":{\"field\":\"k\"},\"y\":{\"field\":\"inertia\"}},\"id\":\"1466\",\"type\":\"Line\"},{\"attributes\":{\"children\":[{\"id\":\"1429\"},{\"id\":\"1433\"},{\"id\":\"1499\"}],\"margin\":[0,0,0,0],\"name\":\"Row02470\",\"tags\":[\"embedded\"]},\"id\":\"1428\",\"type\":\"Row\"},{\"attributes\":{\"overlay\":{\"id\":\"1455\"}},\"id\":\"1453\",\"type\":\"BoxZoomTool\"},{\"attributes\":{\"data\":{\"inertia\":{\"__ndarray__\":\"aDafYnL2gUA1bWBmntZoQKmmqsr9Bl1AVPWgT6xnVkDj0qR94pNQQBAzFtg6gkxAMIlQDTvuR0D7MOcNVaJDQOy1b3wwFkBA9y2/QpNqPEA=\",\"dtype\":\"float64\",\"order\":\"little\",\"shape\":[10]},\"k\":[1,2,3,4,5,6,7,8,9,10]},\"selected\":{\"id\":\"1464\"},\"selection_policy\":{\"id\":\"1488\"}},\"id\":\"1463\",\"type\":\"ColumnDataSource\"},{\"attributes\":{},\"id\":\"1473\",\"type\":\"BasicTickFormatter\"},{\"attributes\":{},\"id\":\"1474\",\"type\":\"AllLabels\"},{\"attributes\":{},\"id\":\"1450\",\"type\":\"SaveTool\"},{\"attributes\":{},\"id\":\"1451\",\"type\":\"PanTool\"},{\"attributes\":{},\"id\":\"1454\",\"type\":\"ResetTool\"},{\"attributes\":{},\"id\":\"1464\",\"type\":\"Selection\"},{\"attributes\":{},\"id\":\"1452\",\"type\":\"WheelZoomTool\"},{\"attributes\":{\"margin\":[5,5,5,5],\"name\":\"HSpacer02474\",\"sizing_mode\":\"stretch_width\"},\"id\":\"1429\",\"type\":\"Spacer\"},{\"attributes\":{\"ticks\":[1,2,3,4,5,6,7,8,9,10]},\"id\":\"1472\",\"type\":\"FixedTicker\"},{\"attributes\":{\"text\":\"Elbow Curve\",\"text_color\":\"black\",\"text_font_size\":\"12pt\"},\"id\":\"1434\",\"type\":\"Title\"}],\"root_ids\":[\"1428\"]},\"title\":\"Bokeh Application\",\"version\":\"2.3.2\"}};\n",
       "    var render_items = [{\"docid\":\"2157f124-9f9f-47d5-a86d-0b78f6560c97\",\"root_ids\":[\"1428\"],\"roots\":{\"1428\":\"886a9d21-fd5c-4a79-a42d-8dcd203cef9f\"}}];\n",
       "    root.Bokeh.embed.embed_items_notebook(docs_json, render_items);\n",
       "  }\n",
       "  if (root.Bokeh !== undefined && root.Bokeh.Panel !== undefined) {\n",
       "    embed_document(root);\n",
       "  } else {\n",
       "    var attempts = 0;\n",
       "    var timer = setInterval(function(root) {\n",
       "      if (root.Bokeh !== undefined && root.Bokeh.Panel !== undefined) {\n",
       "        clearInterval(timer);\n",
       "        embed_document(root);\n",
       "      } else if (document.readyState == \"complete\") {\n",
       "        attempts++;\n",
       "        if (attempts > 100) {\n",
       "          clearInterval(timer);\n",
       "          console.log(\"Bokeh: ERROR: Unable to run BokehJS code because BokehJS library is missing\");\n",
       "        }\n",
       "      }\n",
       "    }, 10, root)\n",
       "  }\n",
       "})(window);</script>"
      ],
      "text/plain": [
       ":Curve   [k]   (inertia)"
      ]
     },
     "execution_count": 21,
     "metadata": {
      "application/vnd.holoviews_exec.v0+json": {
       "id": "1428"
      }
     },
     "output_type": "execute_result"
    }
   ],
   "source": [
    "# Find the best value for K\n",
    "inertia = []\n",
    "k = list(range(1, 11))\n",
    "\n",
    "# Calculate the inertia for the range of K values\n",
    "for i in k:\n",
    "    km = KMeans(n_clusters=i, random_state=0)\n",
    "    km.fit(df_iris_pca)\n",
    "    inertia.append(km.inertia_)\n",
    "\n",
    "# Create the elbow curve\n",
    "elbow_data = {\"k\": k, \"inertia\": inertia}\n",
    "df_elbow = pd.DataFrame(elbow_data)\n",
    "df_elbow.hvplot.line(x=\"k\", y=\"inertia\", xticks=k, title=\"Elbow Curve\")"
   ]
  },
  {
   "cell_type": "code",
   "execution_count": 22,
   "id": "a14d9b13",
   "metadata": {},
   "outputs": [
    {
     "data": {
      "text/html": [
       "<div>\n",
       "<style scoped>\n",
       "    .dataframe tbody tr th:only-of-type {\n",
       "        vertical-align: middle;\n",
       "    }\n",
       "\n",
       "    .dataframe tbody tr th {\n",
       "        vertical-align: top;\n",
       "    }\n",
       "\n",
       "    .dataframe thead th {\n",
       "        text-align: right;\n",
       "    }\n",
       "</style>\n",
       "<table border=\"1\" class=\"dataframe\">\n",
       "  <thead>\n",
       "    <tr style=\"text-align: right;\">\n",
       "      <th></th>\n",
       "      <th>Princple Component 1</th>\n",
       "      <th>Principle Component 2</th>\n",
       "      <th>class</th>\n",
       "    </tr>\n",
       "  </thead>\n",
       "  <tbody>\n",
       "    <tr>\n",
       "      <th>0</th>\n",
       "      <td>-2.264542</td>\n",
       "      <td>0.505704</td>\n",
       "      <td>0</td>\n",
       "    </tr>\n",
       "    <tr>\n",
       "      <th>1</th>\n",
       "      <td>-2.086426</td>\n",
       "      <td>-0.655405</td>\n",
       "      <td>0</td>\n",
       "    </tr>\n",
       "    <tr>\n",
       "      <th>2</th>\n",
       "      <td>-2.367950</td>\n",
       "      <td>-0.318477</td>\n",
       "      <td>0</td>\n",
       "    </tr>\n",
       "    <tr>\n",
       "      <th>3</th>\n",
       "      <td>-2.304197</td>\n",
       "      <td>-0.575368</td>\n",
       "      <td>0</td>\n",
       "    </tr>\n",
       "    <tr>\n",
       "      <th>4</th>\n",
       "      <td>-2.388777</td>\n",
       "      <td>0.674767</td>\n",
       "      <td>0</td>\n",
       "    </tr>\n",
       "  </tbody>\n",
       "</table>\n",
       "</div>"
      ],
      "text/plain": [
       "   Princple Component 1  Principle Component 2  class\n",
       "0             -2.264542               0.505704      0\n",
       "1             -2.086426              -0.655405      0\n",
       "2             -2.367950              -0.318477      0\n",
       "3             -2.304197              -0.575368      0\n",
       "4             -2.388777               0.674767      0"
      ]
     },
     "execution_count": 22,
     "metadata": {},
     "output_type": "execute_result"
    }
   ],
   "source": [
    "# Initialize the K-means model\n",
    "model = KMeans(n_clusters=3, random_state=0)\n",
    "\n",
    "# Fit the model\n",
    "model.fit(df_iris_pca)\n",
    "\n",
    "# Predict clusters\n",
    "predictions = model.predict(df_iris_pca)\n",
    "\n",
    "# Add the predicted class columns\n",
    "df_iris_pca[\"class\"] = model.labels_\n",
    "df_iris_pca.head()"
   ]
  },
  {
   "cell_type": "code",
   "execution_count": 23,
   "id": "5b98e9c6",
   "metadata": {},
   "outputs": [
    {
     "data": {},
     "metadata": {},
     "output_type": "display_data"
    },
    {
     "data": {
      "application/vnd.holoviews_exec.v0+json": "",
      "text/html": [
       "<div id='1546'>\n",
       "\n",
       "\n",
       "\n",
       "\n",
       "\n",
       "  <div class=\"bk-root\" id=\"0942f2d8-decc-4341-a5a6-ef95c6a93e10\" data-root-id=\"1546\"></div>\n",
       "</div>\n",
       "<script type=\"application/javascript\">(function(root) {\n",
       "  function embed_document(root) {\n",
       "    var docs_json = {\"fb0d6b33-bf31-41eb-99dd-92bd9dee8817\":{\"defs\":[],\"roots\":{\"references\":[{\"attributes\":{\"source\":{\"id\":\"1610\"}},\"id\":\"1617\",\"type\":\"CDSView\"},{\"attributes\":{},\"id\":\"1563\",\"type\":\"BasicTicker\"},{\"attributes\":{\"callback\":null,\"renderers\":[{\"id\":\"1595\"},{\"id\":\"1616\"},{\"id\":\"1638\"}],\"tags\":[\"hv_created\"],\"tooltips\":[[\"class\",\"@{class}\"],[\"Princple Component 1\",\"@{Princple_Component_1}\"],[\"Principle Component 2\",\"@{Principle_Component_2}\"]]},\"id\":\"1550\",\"type\":\"HoverTool\"},{\"attributes\":{\"source\":{\"id\":\"1632\"}},\"id\":\"1639\",\"type\":\"CDSView\"},{\"attributes\":{},\"id\":\"1586\",\"type\":\"BasicTickFormatter\"},{\"attributes\":{},\"id\":\"1570\",\"type\":\"SaveTool\"},{\"attributes\":{},\"id\":\"1571\",\"type\":\"PanTool\"},{\"attributes\":{\"data_source\":{\"id\":\"1632\"},\"glyph\":{\"id\":\"1635\"},\"hover_glyph\":null,\"muted_glyph\":{\"id\":\"1637\"},\"nonselection_glyph\":{\"id\":\"1636\"},\"selection_glyph\":{\"id\":\"1655\"},\"view\":{\"id\":\"1639\"}},\"id\":\"1638\",\"type\":\"GlyphRenderer\"},{\"attributes\":{},\"id\":\"1574\",\"type\":\"ResetTool\"},{\"attributes\":{},\"id\":\"1572\",\"type\":\"WheelZoomTool\"},{\"attributes\":{\"below\":[{\"id\":\"1562\"}],\"center\":[{\"id\":\"1565\"},{\"id\":\"1569\"}],\"height\":300,\"left\":[{\"id\":\"1566\"}],\"margin\":[5,5,5,5],\"min_border_bottom\":10,\"min_border_left\":10,\"min_border_right\":10,\"min_border_top\":10,\"renderers\":[{\"id\":\"1595\"},{\"id\":\"1616\"},{\"id\":\"1638\"}],\"right\":[{\"id\":\"1607\"}],\"sizing_mode\":\"fixed\",\"title\":{\"id\":\"1554\"},\"toolbar\":{\"id\":\"1576\"},\"width\":700,\"x_range\":{\"id\":\"1548\"},\"x_scale\":{\"id\":\"1558\"},\"y_range\":{\"id\":\"1549\"},\"y_scale\":{\"id\":\"1560\"}},\"id\":\"1553\",\"subtype\":\"Figure\",\"type\":\"Plot\"},{\"attributes\":{\"overlay\":{\"id\":\"1575\"}},\"id\":\"1573\",\"type\":\"BoxZoomTool\"},{\"attributes\":{\"fill_alpha\":{\"value\":0.2},\"fill_color\":{\"value\":\"#e5ae38\"},\"line_alpha\":{\"value\":0.2},\"line_color\":{\"value\":\"#e5ae38\"},\"size\":{\"value\":5.477225575051661},\"x\":{\"field\":\"Princple Component 1\"},\"y\":{\"field\":\"Principle Component 2\"}},\"id\":\"1637\",\"type\":\"Scatter\"},{\"attributes\":{\"axis\":{\"id\":\"1562\"},\"grid_line_color\":null,\"ticker\":null},\"id\":\"1565\",\"type\":\"Grid\"},{\"attributes\":{\"angle\":{\"value\":0.0},\"fill_alpha\":{\"value\":1.0},\"fill_color\":{\"value\":\"#e5ae38\"},\"hatch_alpha\":{\"value\":1.0},\"hatch_color\":{\"value\":\"black\"},\"hatch_scale\":{\"value\":12.0},\"hatch_weight\":{\"value\":1.0},\"line_alpha\":{\"value\":1.0},\"line_cap\":{\"value\":\"butt\"},\"line_color\":{\"value\":\"#e5ae38\"},\"line_dash\":{\"value\":[]},\"line_dash_offset\":{\"value\":0},\"line_join\":{\"value\":\"bevel\"},\"line_width\":{\"value\":1},\"marker\":{\"value\":\"circle\"},\"size\":{\"value\":5.477225575051661},\"x\":{\"field\":\"Princple Component 1\"},\"y\":{\"field\":\"Principle Component 2\"}},\"id\":\"1655\",\"type\":\"Scatter\"},{\"attributes\":{},\"id\":\"1590\",\"type\":\"Selection\"},{\"attributes\":{},\"id\":\"1611\",\"type\":\"Selection\"},{\"attributes\":{\"text_color\":\"black\",\"text_font_size\":\"12pt\"},\"id\":\"1554\",\"type\":\"Title\"},{\"attributes\":{\"fill_color\":{\"value\":\"#30a2da\"},\"line_color\":{\"value\":\"#30a2da\"},\"size\":{\"value\":5.477225575051661},\"x\":{\"field\":\"Princple Component 1\"},\"y\":{\"field\":\"Principle Component 2\"}},\"id\":\"1592\",\"type\":\"Scatter\"},{\"attributes\":{\"label\":{\"value\":\"2\"},\"renderers\":[{\"id\":\"1638\"}]},\"id\":\"1654\",\"type\":\"LegendItem\"},{\"attributes\":{},\"id\":\"1558\",\"type\":\"LinearScale\"},{\"attributes\":{\"data\":{\"Principle Component 2\":{\"__ndarray__\":\"YO9787ku4D/xF8lWE/nkv3bYpqjuYdS/EiSQjGlp4r/P0afLsZflP7m+IZP5S/g/MiSoGooWsz9veXQ10LHPP88IOjG4hfG/kU6pnFa23L9nMKXTKCHxPym/qP2XTMQ/qao3kBix5r+LiXLvZwbuv9eryBtaPf4/krWrfGrHBUBejF03Ujj4PzP+/04udeA/8kk0V9Tl9j8opZIPTofyP2TAlsG9jNs/2vKSxId67j8/u+o4P1TfPwzWDBwFVLs/SO1BJITCxD+6YRod23Pjv2mqjuRgBtE/a4xIfx6q4T/VGaA2hIvVP2BBWpX4JtS/SwayRej43r8Glx54QH/cP7lxJTRvQf0/xLJwma57AUCRTqmcVrbcvyvn16FhmMe/reVDvSnr5T+RTqmcVrbcv3jEP1q7Ouy/cUSP1gm80j9RwmaGk/PdP4B/28YcnwLAqO8l3FML3b9mssu+Q9XfP+7eGJkvvvI//Ywv2S8k5r9SqsG4/WjyP9ettwhpMde/du6vZGBo8D+k7UmWeoGgPw==\",\"dtype\":\"float64\",\"order\":\"little\",\"shape\":[50]},\"Principle_Component_2\":{\"__ndarray__\":\"YO9787ku4D/xF8lWE/nkv3bYpqjuYdS/EiSQjGlp4r/P0afLsZflP7m+IZP5S/g/MiSoGooWsz9veXQ10LHPP88IOjG4hfG/kU6pnFa23L9nMKXTKCHxPym/qP2XTMQ/qao3kBix5r+LiXLvZwbuv9eryBtaPf4/krWrfGrHBUBejF03Ujj4PzP+/04udeA/8kk0V9Tl9j8opZIPTofyP2TAlsG9jNs/2vKSxId67j8/u+o4P1TfPwzWDBwFVLs/SO1BJITCxD+6YRod23Pjv2mqjuRgBtE/a4xIfx6q4T/VGaA2hIvVP2BBWpX4JtS/SwayRej43r8Glx54QH/cP7lxJTRvQf0/xLJwma57AUCRTqmcVrbcvyvn16FhmMe/reVDvSnr5T+RTqmcVrbcv3jEP1q7Ouy/cUSP1gm80j9RwmaGk/PdP4B/28YcnwLAqO8l3FML3b9mssu+Q9XfP+7eGJkvvvI//Ywv2S8k5r9SqsG4/WjyP9ettwhpMde/du6vZGBo8D+k7UmWeoGgPw==\",\"dtype\":\"float64\",\"order\":\"little\",\"shape\":[50]},\"Princple Component 1\":{\"__ndarray__\":\"PRG/DcgdAsChflXa/7AAwDAtSgGQ8QLArHjV6/5uAsB+OOBfNxwDwLMJAJp1kADA61hZG9GQA8C5vPx66N4BwLnvZ05UvALA49Uzb2iCAcDIACQK0k4BwH+PWzp4ngLAbUHW4evKAcBxYBiPIx4FwOJkYiHQiQHA78LFMQADAsDDicmkO58BwNTnRqd8hQHAFLKL2CBO/r9wMd43N7gCwDou6+IFov6/KnpNIB2jAcAkHszufzEGwHOyHOBnIP2/c29EsmPTAcBnStBn+E//v+gJWiugagDA0BcE6nVYAcD06Z27WB8BwCMNM3l7JgLA3+URJwwoAcCzCNRTnk/9v3iUD3eZ3QTAyIxIYeyAA8Dj1TNvaIIBwAbB4qBfsAHAqgtPDPdaAMDj1TNvaIIBwJ7dMoLUfAPAVSP02UddAcA84QHLzkoCwF9zDEaD8v2/X/lj5HF2BMD6iQQfsG3/v/qHnMYlEQHAoe7lFFWaAMDT+qMb0QwDwJFmoB9/LwPALZosq3LQAcDdjpZMy6UBwA==\",\"dtype\":\"float64\",\"order\":\"little\",\"shape\":[50]},\"Princple_Component_1\":{\"__ndarray__\":\"PRG/DcgdAsChflXa/7AAwDAtSgGQ8QLArHjV6/5uAsB+OOBfNxwDwLMJAJp1kADA61hZG9GQA8C5vPx66N4BwLnvZ05UvALA49Uzb2iCAcDIACQK0k4BwH+PWzp4ngLAbUHW4evKAcBxYBiPIx4FwOJkYiHQiQHA78LFMQADAsDDicmkO58BwNTnRqd8hQHAFLKL2CBO/r9wMd43N7gCwDou6+IFov6/KnpNIB2jAcAkHszufzEGwHOyHOBnIP2/c29EsmPTAcBnStBn+E//v+gJWiugagDA0BcE6nVYAcD06Z27WB8BwCMNM3l7JgLA3+URJwwoAcCzCNRTnk/9v3iUD3eZ3QTAyIxIYeyAA8Dj1TNvaIIBwAbB4qBfsAHAqgtPDPdaAMDj1TNvaIIBwJ7dMoLUfAPAVSP02UddAcA84QHLzkoCwF9zDEaD8v2/X/lj5HF2BMD6iQQfsG3/v/qHnMYlEQHAoe7lFFWaAMDT+qMb0QwDwJFmoB9/LwPALZosq3LQAcDdjpZMy6UBwA==\",\"dtype\":\"float64\",\"order\":\"little\",\"shape\":[50]},\"class\":{\"__ndarray__\":\"AAAAAAAAAAAAAAAAAAAAAAAAAAAAAAAAAAAAAAAAAAAAAAAAAAAAAAAAAAAAAAAAAAAAAAAAAAAAAAAAAAAAAAAAAAAAAAAAAAAAAAAAAAAAAAAAAAAAAAAAAAAAAAAAAAAAAAAAAAAAAAAAAAAAAAAAAAAAAAAAAAAAAAAAAAAAAAAAAAAAAAAAAAAAAAAAAAAAAAAAAAAAAAAAAAAAAAAAAAAAAAAAAAAAAAAAAAAAAAAAAAAAAAAAAAAAAAAAAAAAAAAAAAA=\",\"dtype\":\"int32\",\"order\":\"little\",\"shape\":[50]}},\"selected\":{\"id\":\"1590\"},\"selection_policy\":{\"id\":\"1605\"}},\"id\":\"1589\",\"type\":\"ColumnDataSource\"},{\"attributes\":{\"fill_color\":{\"value\":\"#fc4f30\"},\"line_color\":{\"value\":\"#fc4f30\"},\"size\":{\"value\":5.477225575051661},\"x\":{\"field\":\"Princple Component 1\"},\"y\":{\"field\":\"Principle Component 2\"}},\"id\":\"1613\",\"type\":\"Scatter\"},{\"attributes\":{},\"id\":\"1587\",\"type\":\"AllLabels\"},{\"attributes\":{},\"id\":\"1633\",\"type\":\"Selection\"},{\"attributes\":{},\"id\":\"1652\",\"type\":\"UnionRenderers\"},{\"attributes\":{\"click_policy\":\"mute\",\"items\":[{\"id\":\"1608\"},{\"id\":\"1630\"},{\"id\":\"1654\"}],\"location\":[0,0],\"title\":\"class\"},\"id\":\"1607\",\"type\":\"Legend\"},{\"attributes\":{},\"id\":\"1560\",\"type\":\"LinearScale\"},{\"attributes\":{\"axis_label\":\"Principle Component 2\",\"formatter\":{\"id\":\"1586\"},\"major_label_policy\":{\"id\":\"1587\"},\"ticker\":{\"id\":\"1567\"}},\"id\":\"1566\",\"type\":\"LinearAxis\"},{\"attributes\":{\"fill_alpha\":{\"value\":0.1},\"fill_color\":{\"value\":\"#30a2da\"},\"line_alpha\":{\"value\":0.1},\"line_color\":{\"value\":\"#30a2da\"},\"size\":{\"value\":5.477225575051661},\"x\":{\"field\":\"Princple Component 1\"},\"y\":{\"field\":\"Principle Component 2\"}},\"id\":\"1593\",\"type\":\"Scatter\"},{\"attributes\":{},\"id\":\"1583\",\"type\":\"BasicTickFormatter\"},{\"attributes\":{\"data_source\":{\"id\":\"1589\"},\"glyph\":{\"id\":\"1592\"},\"hover_glyph\":null,\"muted_glyph\":{\"id\":\"1594\"},\"nonselection_glyph\":{\"id\":\"1593\"},\"selection_glyph\":{\"id\":\"1609\"},\"view\":{\"id\":\"1596\"}},\"id\":\"1595\",\"type\":\"GlyphRenderer\"},{\"attributes\":{\"end\":3.5698545102352752,\"reset_end\":3.5698545102352752,\"reset_start\":-3.034883121264353,\"start\":-3.034883121264353,\"tags\":[[[\"Princple Component 1\",\"Princple Component 1\",null]]]},\"id\":\"1548\",\"type\":\"Range1d\"},{\"attributes\":{\"axis_label\":\"Princple Component 1\",\"formatter\":{\"id\":\"1583\"},\"major_label_policy\":{\"id\":\"1584\"},\"ticker\":{\"id\":\"1563\"}},\"id\":\"1562\",\"type\":\"LinearAxis\"},{\"attributes\":{\"fill_alpha\":{\"value\":0.1},\"fill_color\":{\"value\":\"#e5ae38\"},\"line_alpha\":{\"value\":0.1},\"line_color\":{\"value\":\"#e5ae38\"},\"size\":{\"value\":5.477225575051661},\"x\":{\"field\":\"Princple Component 1\"},\"y\":{\"field\":\"Principle Component 2\"}},\"id\":\"1636\",\"type\":\"Scatter\"},{\"attributes\":{\"children\":[{\"id\":\"1547\"},{\"id\":\"1553\"},{\"id\":\"1782\"}],\"margin\":[0,0,0,0],\"name\":\"Row02701\",\"tags\":[\"embedded\"]},\"id\":\"1546\",\"type\":\"Row\"},{\"attributes\":{\"data\":{\"Principle Component 2\":{\"__ndarray__\":\"2Hb2/Z2e6z8cPDfKBSjjP9nNPSGgrOM/t1+rWRnr6D9iOXqk51HgP5dBqiETwtk/W57yIJwL0D8OiLBClya1v0MteShkC9U/Egg+Gkhd6z/Bk6QJ17XgP4ksy2Xw5Os/C8TpFji+4T93lDOr+pqpv/hEGSLnotI/owetLdY66T9TO0mDhTXaP7KQnq/nKee/wo2XATu+/j83oQKF0jTmP2l9L85taNu/dKdDi22E2j81fGgVRqrlPzg3rDJONNA/gzlsMT10BEDLiaQTDFhjv0R0hSJpCe0/bpKR42l12T+TWt+y8znwP56AK36oDfA/gKj7cmzHsD/fvEvBKb3Iv5LkXX2vxeE/017ipF+Szz8m4TWwbAIFQIeBO1NYo8e/Sis1XS0I6z+oj2oE2yjxPyT8A+M9Bts/v6TAq3yE5T/d+zteX4jjP+N2Ilnq8+U/wCJfoH+r6z8/eOdp3MbwP/9DMiongNg/f9tvjSkT0T8hLdG5BEPwPw==\",\"dtype\":\"float64\",\"order\":\"little\",\"shape\":[47]},\"Principle_Component_2\":{\"__ndarray__\":\"2Hb2/Z2e6z8cPDfKBSjjP9nNPSGgrOM/t1+rWRnr6D9iOXqk51HgP5dBqiETwtk/W57yIJwL0D8OiLBClya1v0MteShkC9U/Egg+Gkhd6z/Bk6QJ17XgP4ksy2Xw5Os/C8TpFji+4T93lDOr+pqpv/hEGSLnotI/owetLdY66T9TO0mDhTXaP7KQnq/nKee/wo2XATu+/j83oQKF0jTmP2l9L85taNu/dKdDi22E2j81fGgVRqrlPzg3rDJONNA/gzlsMT10BEDLiaQTDFhjv0R0hSJpCe0/bpKR42l12T+TWt+y8znwP56AK36oDfA/gKj7cmzHsD/fvEvBKb3Iv5LkXX2vxeE/017ipF+Szz8m4TWwbAIFQIeBO1NYo8e/Sis1XS0I6z+oj2oE2yjxPyT8A+M9Bts/v6TAq3yE5T/d+zteX4jjP+N2Ilnq8+U/wCJfoH+r6z8/eOdp3MbwP/9DMiongNg/f9tvjSkT0T8hLdG5BEPwPw==\",\"dtype\":\"float64\",\"order\":\"little\",\"shape\":[47]},\"Princple Component 1\":{\"__ndarray__\":\"cZicP/Wp8T/ndLjqfHDnP0dUdjeu3/M/j32nUXn15z94t9eWSwfsPwbqCkTLn+c/YokX1wP06z/pYaNJSxH0PxRwyrRZu/U/YSqW1lWi2z+iboqoZcrwP2JoZCMRkP0/XKOtkJqmAUCvkwP82gT3P8Sof1zh4v0/cEK5SJgIBkDlZzhbjmwCQPUm68uNAwBAIU9oqvMjAkBti3vYw9r1P60QOb/Elfk/Oa6UReUl/j8a0QQIDXj5P3kdkBhdivc/P/YnSsB/A0AxhisDH3kKQJbn9rPvUgBANi4taDwvB0BAqLnnkUT7P6UJnj3aUv8/H9Lu7wVR8D+f2hYHfpP8P30bVl0h1v0/ifhsDuZ7A0AwtjE3VocCQGstB9QUxP0/jU42KVhoBkCz+a/eUEj5P+/OTXR+jfU/OwUQICao/T8NDMQGFyEAQLhqwqkqc/4/OQ5TGLJYAEC5eb2NdgMAQPDgNY2o7f0/94JComFV+D8P9OTEsgX2Pw==\",\"dtype\":\"float64\",\"order\":\"little\",\"shape\":[47]},\"Princple_Component_1\":{\"__ndarray__\":\"cZicP/Wp8T/ndLjqfHDnP0dUdjeu3/M/j32nUXn15z94t9eWSwfsPwbqCkTLn+c/YokX1wP06z/pYaNJSxH0PxRwyrRZu/U/YSqW1lWi2z+iboqoZcrwP2JoZCMRkP0/XKOtkJqmAUCvkwP82gT3P8Sof1zh4v0/cEK5SJgIBkDlZzhbjmwCQPUm68uNAwBAIU9oqvMjAkBti3vYw9r1P60QOb/Elfk/Oa6UReUl/j8a0QQIDXj5P3kdkBhdivc/P/YnSsB/A0AxhisDH3kKQJbn9rPvUgBANi4taDwvB0BAqLnnkUT7P6UJnj3aUv8/H9Lu7wVR8D+f2hYHfpP8P30bVl0h1v0/ifhsDuZ7A0AwtjE3VocCQGstB9QUxP0/jU42KVhoBkCz+a/eUEj5P+/OTXR+jfU/OwUQICao/T8NDMQGFyEAQLhqwqkqc/4/OQ5TGLJYAEC5eb2NdgMAQPDgNY2o7f0/94JComFV+D8P9OTEsgX2Pw==\",\"dtype\":\"float64\",\"order\":\"little\",\"shape\":[47]},\"class\":{\"__ndarray__\":\"AgAAAAIAAAACAAAAAgAAAAIAAAACAAAAAgAAAAIAAAACAAAAAgAAAAIAAAACAAAAAgAAAAIAAAACAAAAAgAAAAIAAAACAAAAAgAAAAIAAAACAAAAAgAAAAIAAAACAAAAAgAAAAIAAAACAAAAAgAAAAIAAAACAAAAAgAAAAIAAAACAAAAAgAAAAIAAAACAAAAAgAAAAIAAAACAAAAAgAAAAIAAAACAAAAAgAAAAIAAAACAAAAAgAAAAIAAAA=\",\"dtype\":\"int32\",\"order\":\"little\",\"shape\":[47]}},\"selected\":{\"id\":\"1633\"},\"selection_policy\":{\"id\":\"1652\"}},\"id\":\"1632\",\"type\":\"ColumnDataSource\"},{\"attributes\":{\"data_source\":{\"id\":\"1610\"},\"glyph\":{\"id\":\"1613\"},\"hover_glyph\":null,\"muted_glyph\":{\"id\":\"1615\"},\"nonselection_glyph\":{\"id\":\"1614\"},\"selection_glyph\":{\"id\":\"1631\"},\"view\":{\"id\":\"1617\"}},\"id\":\"1616\",\"type\":\"GlyphRenderer\"},{\"attributes\":{\"label\":{\"value\":\"0\"},\"renderers\":[{\"id\":\"1595\"}]},\"id\":\"1608\",\"type\":\"LegendItem\"},{\"attributes\":{},\"id\":\"1567\",\"type\":\"BasicTicker\"},{\"attributes\":{\"axis\":{\"id\":\"1566\"},\"dimension\":1,\"grid_line_color\":null,\"ticker\":null},\"id\":\"1569\",\"type\":\"Grid\"},{\"attributes\":{\"active_multi\":null,\"tools\":[{\"id\":\"1550\"},{\"id\":\"1570\"},{\"id\":\"1571\"},{\"id\":\"1572\"},{\"id\":\"1573\"},{\"id\":\"1574\"}]},\"id\":\"1576\",\"type\":\"Toolbar\"},{\"attributes\":{\"fill_alpha\":{\"value\":0.2},\"fill_color\":{\"value\":\"#fc4f30\"},\"line_alpha\":{\"value\":0.2},\"line_color\":{\"value\":\"#fc4f30\"},\"size\":{\"value\":5.477225575051661},\"x\":{\"field\":\"Princple Component 1\"},\"y\":{\"field\":\"Principle Component 2\"}},\"id\":\"1615\",\"type\":\"Scatter\"},{\"attributes\":{\"fill_alpha\":{\"value\":0.1},\"fill_color\":{\"value\":\"#fc4f30\"},\"line_alpha\":{\"value\":0.1},\"line_color\":{\"value\":\"#fc4f30\"},\"size\":{\"value\":5.477225575051661},\"x\":{\"field\":\"Princple Component 1\"},\"y\":{\"field\":\"Principle Component 2\"}},\"id\":\"1614\",\"type\":\"Scatter\"},{\"attributes\":{},\"id\":\"1628\",\"type\":\"UnionRenderers\"},{\"attributes\":{\"fill_color\":{\"value\":\"#e5ae38\"},\"line_color\":{\"value\":\"#e5ae38\"},\"size\":{\"value\":5.477225575051661},\"x\":{\"field\":\"Princple Component 1\"},\"y\":{\"field\":\"Principle Component 2\"}},\"id\":\"1635\",\"type\":\"Scatter\"},{\"attributes\":{},\"id\":\"1584\",\"type\":\"AllLabels\"},{\"attributes\":{\"fill_alpha\":{\"value\":0.2},\"fill_color\":{\"value\":\"#30a2da\"},\"line_alpha\":{\"value\":0.2},\"line_color\":{\"value\":\"#30a2da\"},\"size\":{\"value\":5.477225575051661},\"x\":{\"field\":\"Princple Component 1\"},\"y\":{\"field\":\"Principle Component 2\"}},\"id\":\"1594\",\"type\":\"Scatter\"},{\"attributes\":{\"data\":{\"Principle Component 2\":{\"__ndarray__\":\"k80hw3Uh/L+NAFcJ4hrLv/AVlNb76eK/ZpSza/eU/b/3i2FUCw+fP+jLA01tePC/94KEXbZDBcCp9gYTsCWuv0vNqHx+XPy/1nstxk+8x78yLLY26rLbvwi+JkVKZsi/lYnUeJ9N6b9l5T6HOSL6v75Ai9CC2fS/uQipiLWp2r9Jr8dW+Rvuv+fFU70Krdq/EjfCViNBsL9fGdg+X7fMv2oFEZBX6vC/bcJ8cXkE+b9u1i92nSz5v0SekB1e1Oi/Di0SzX5h5L94bj2aaPnRv72Ls++KR/a/icdo/yc3y79AZwsN7Ub1vycJ/oM76fG//MUd1SI0nD9r68QlE6Xvv9DC5Ku5JADApEs7dJBT67+ojkY+Z2PGv072R1TcWdi/gTq1mhitw7+3+86JpaH4v6d6HI5KEeO/SwhbdkNx5r8/lg29Jfb4v5IxaImirfK/qK9g7els3L9SKnQyOXv7v0PNWXwPR+K/RGwdsBUn37/E2YlbzWjUv/uTgLFv8dK/TK/b9jwm6r+EAFtSILGTP0sIW3ZDcea/w1rVOlT47L8UCiw2mtGWvw==\",\"dtype\":\"float64\",\"order\":\"little\",\"shape\":[53]},\"Principle_Component_2\":{\"__ndarray__\":\"k80hw3Uh/L+NAFcJ4hrLv/AVlNb76eK/ZpSza/eU/b/3i2FUCw+fP+jLA01tePC/94KEXbZDBcCp9gYTsCWuv0vNqHx+XPy/1nstxk+8x78yLLY26rLbvwi+JkVKZsi/lYnUeJ9N6b9l5T6HOSL6v75Ai9CC2fS/uQipiLWp2r9Jr8dW+Rvuv+fFU70Krdq/EjfCViNBsL9fGdg+X7fMv2oFEZBX6vC/bcJ8cXkE+b9u1i92nSz5v0SekB1e1Oi/Di0SzX5h5L94bj2aaPnRv72Ls++KR/a/icdo/yc3y79AZwsN7Ub1vycJ/oM76fG//MUd1SI0nD9r68QlE6Xvv9DC5Ku5JADApEs7dJBT67+ojkY+Z2PGv072R1TcWdi/gTq1mhitw7+3+86JpaH4v6d6HI5KEeO/SwhbdkNx5r8/lg29Jfb4v5IxaImirfK/qK9g7els3L9SKnQyOXv7v0PNWXwPR+K/RGwdsBUn37/E2YlbzWjUv/uTgLFv8dK/TK/b9jwm6r+EAFtSILGTP0sIW3ZDcea/w1rVOlT47L8UCiw2mtGWvw==\",\"dtype\":\"float64\",\"order\":\"little\",\"shape\":[53]},\"Princple Component 1\":{\"__ndarray__\":\"ghWMhntt2T9JnJZFWCnxP2uBHlf2mtg/6f4dZv7c379tGywXnaPtPyPDkDZaWXQ/xd2FPizsv7+xz+h8JxTcP1dNsk78puE/OUUqJwTz5j+jz63ghxOjv5xu06S8RdY/37Iv7V2iwz9n6iTH4XHzPzTYZACmFsQ/WK1SDE473j8RyjX41qXzP4sxy7fjI+Q/G9CK7kVq5j8fhVUnIzDlP8ob1FJINai/WD98rN0cvz+JkFg5BOqMPx/f6GWaNc4/D81ZRTXo8D+zsJMoZVfMP9Cbvwf1kvA/vF4TnFcrsT97NwN1kKDRP819yQ7wbdE/pY3+VwPx4z+23kvRzh7VP7/EFNWD6de/2STllsIb0j83X21EL8y2PwckQhu5t8w/8wRG5kBd4j/cjFDrsj/dv+KA0gDGJNA/4F8IKHdz8j8Cokp+m+/WP1335HGkDPQ/HeKIxsts9z/9RPpdThD0P5JitwdQKu8/9YqkmmBE9T9jfP3wHsDyP9/2a9zEx/E/KTazatUo8z+ZvvFQw4ztP+BfCCh3c/I/StVbMZXv+D872SvtkrLuPw==\",\"dtype\":\"float64\",\"order\":\"little\",\"shape\":[53]},\"Princple_Component_1\":{\"__ndarray__\":\"ghWMhntt2T9JnJZFWCnxP2uBHlf2mtg/6f4dZv7c379tGywXnaPtPyPDkDZaWXQ/xd2FPizsv7+xz+h8JxTcP1dNsk78puE/OUUqJwTz5j+jz63ghxOjv5xu06S8RdY/37Iv7V2iwz9n6iTH4XHzPzTYZACmFsQ/WK1SDE473j8RyjX41qXzP4sxy7fjI+Q/G9CK7kVq5j8fhVUnIzDlP8ob1FJINai/WD98rN0cvz+JkFg5BOqMPx/f6GWaNc4/D81ZRTXo8D+zsJMoZVfMP9Cbvwf1kvA/vF4TnFcrsT97NwN1kKDRP819yQ7wbdE/pY3+VwPx4z+23kvRzh7VP7/EFNWD6de/2STllsIb0j83X21EL8y2PwckQhu5t8w/8wRG5kBd4j/cjFDrsj/dv+KA0gDGJNA/4F8IKHdz8j8Cokp+m+/WP1335HGkDPQ/HeKIxsts9z/9RPpdThD0P5JitwdQKu8/9YqkmmBE9T9jfP3wHsDyP9/2a9zEx/E/KTazatUo8z+ZvvFQw4ztP+BfCCh3c/I/StVbMZXv+D872SvtkrLuPw==\",\"dtype\":\"float64\",\"order\":\"little\",\"shape\":[53]},\"class\":{\"__ndarray__\":\"AQAAAAEAAAABAAAAAQAAAAEAAAABAAAAAQAAAAEAAAABAAAAAQAAAAEAAAABAAAAAQAAAAEAAAABAAAAAQAAAAEAAAABAAAAAQAAAAEAAAABAAAAAQAAAAEAAAABAAAAAQAAAAEAAAABAAAAAQAAAAEAAAABAAAAAQAAAAEAAAABAAAAAQAAAAEAAAABAAAAAQAAAAEAAAABAAAAAQAAAAEAAAABAAAAAQAAAAEAAAABAAAAAQAAAAEAAAABAAAAAQAAAAEAAAABAAAAAQAAAAEAAAA=\",\"dtype\":\"int32\",\"order\":\"little\",\"shape\":[53]}},\"selected\":{\"id\":\"1611\"},\"selection_policy\":{\"id\":\"1628\"}},\"id\":\"1610\",\"type\":\"ColumnDataSource\"},{\"attributes\":{\"margin\":[5,5,5,5],\"name\":\"HSpacer02705\",\"sizing_mode\":\"stretch_width\"},\"id\":\"1547\",\"type\":\"Spacer\"},{\"attributes\":{\"bottom_units\":\"screen\",\"fill_alpha\":0.5,\"fill_color\":\"lightgrey\",\"left_units\":\"screen\",\"level\":\"overlay\",\"line_alpha\":1.0,\"line_color\":\"black\",\"line_dash\":[4,4],\"line_width\":2,\"right_units\":\"screen\",\"syncable\":false,\"top_units\":\"screen\"},\"id\":\"1575\",\"type\":\"BoxAnnotation\"},{\"attributes\":{\"end\":3.260414452028092,\"reset_end\":3.260414452028092,\"reset_start\":-3.1961060534153853,\"start\":-3.1961060534153853,\"tags\":[[[\"Principle Component 2\",\"Principle Component 2\",null]]]},\"id\":\"1549\",\"type\":\"Range1d\"},{\"attributes\":{\"source\":{\"id\":\"1589\"}},\"id\":\"1596\",\"type\":\"CDSView\"},{\"attributes\":{\"label\":{\"value\":\"1\"},\"renderers\":[{\"id\":\"1616\"}]},\"id\":\"1630\",\"type\":\"LegendItem\"},{\"attributes\":{},\"id\":\"1605\",\"type\":\"UnionRenderers\"},{\"attributes\":{\"margin\":[5,5,5,5],\"name\":\"HSpacer02706\",\"sizing_mode\":\"stretch_width\"},\"id\":\"1782\",\"type\":\"Spacer\"},{\"attributes\":{\"angle\":{\"value\":0.0},\"fill_alpha\":{\"value\":1.0},\"fill_color\":{\"value\":\"#30a2da\"},\"hatch_alpha\":{\"value\":1.0},\"hatch_color\":{\"value\":\"black\"},\"hatch_scale\":{\"value\":12.0},\"hatch_weight\":{\"value\":1.0},\"line_alpha\":{\"value\":1.0},\"line_cap\":{\"value\":\"butt\"},\"line_color\":{\"value\":\"#30a2da\"},\"line_dash\":{\"value\":[]},\"line_dash_offset\":{\"value\":0},\"line_join\":{\"value\":\"bevel\"},\"line_width\":{\"value\":1},\"marker\":{\"value\":\"circle\"},\"size\":{\"value\":5.477225575051661},\"x\":{\"field\":\"Princple Component 1\"},\"y\":{\"field\":\"Principle Component 2\"}},\"id\":\"1609\",\"type\":\"Scatter\"},{\"attributes\":{\"angle\":{\"value\":0.0},\"fill_alpha\":{\"value\":1.0},\"fill_color\":{\"value\":\"#fc4f30\"},\"hatch_alpha\":{\"value\":1.0},\"hatch_color\":{\"value\":\"black\"},\"hatch_scale\":{\"value\":12.0},\"hatch_weight\":{\"value\":1.0},\"line_alpha\":{\"value\":1.0},\"line_cap\":{\"value\":\"butt\"},\"line_color\":{\"value\":\"#fc4f30\"},\"line_dash\":{\"value\":[]},\"line_dash_offset\":{\"value\":0},\"line_join\":{\"value\":\"bevel\"},\"line_width\":{\"value\":1},\"marker\":{\"value\":\"circle\"},\"size\":{\"value\":5.477225575051661},\"x\":{\"field\":\"Princple Component 1\"},\"y\":{\"field\":\"Principle Component 2\"}},\"id\":\"1631\",\"type\":\"Scatter\"}],\"root_ids\":[\"1546\"]},\"title\":\"Bokeh Application\",\"version\":\"2.3.2\"}};\n",
       "    var render_items = [{\"docid\":\"fb0d6b33-bf31-41eb-99dd-92bd9dee8817\",\"root_ids\":[\"1546\"],\"roots\":{\"1546\":\"0942f2d8-decc-4341-a5a6-ef95c6a93e10\"}}];\n",
       "    root.Bokeh.embed.embed_items_notebook(docs_json, render_items);\n",
       "  }\n",
       "  if (root.Bokeh !== undefined && root.Bokeh.Panel !== undefined) {\n",
       "    embed_document(root);\n",
       "  } else {\n",
       "    var attempts = 0;\n",
       "    var timer = setInterval(function(root) {\n",
       "      if (root.Bokeh !== undefined && root.Bokeh.Panel !== undefined) {\n",
       "        clearInterval(timer);\n",
       "        embed_document(root);\n",
       "      } else if (document.readyState == \"complete\") {\n",
       "        attempts++;\n",
       "        if (attempts > 100) {\n",
       "          clearInterval(timer);\n",
       "          console.log(\"Bokeh: ERROR: Unable to run BokehJS code because BokehJS library is missing\");\n",
       "        }\n",
       "      }\n",
       "    }, 10, root)\n",
       "  }\n",
       "})(window);</script>"
      ],
      "text/plain": [
       ":NdOverlay   [class]\n",
       "   :Scatter   [Princple Component 1]   (Principle Component 2,class)"
      ]
     },
     "execution_count": 23,
     "metadata": {
      "application/vnd.holoviews_exec.v0+json": {
       "id": "1546"
      }
     },
     "output_type": "execute_result"
    }
   ],
   "source": [
    "df_iris_pca.hvplot.scatter(\n",
    "    x=\"Princple Component 1\",\n",
    "    y=\"Principle Component 2\",\n",
    "    hover_cols=[\"class\"],\n",
    "    by=\"class\",\n",
    ")"
   ]
  },
  {
   "cell_type": "code",
   "execution_count": null,
   "id": "e680c9d3",
   "metadata": {},
   "outputs": [],
   "source": []
  }
 ],
 "metadata": {
  "kernelspec": {
   "display_name": "mlenv",
   "language": "python",
   "name": "mlenv"
  },
  "language_info": {
   "codemirror_mode": {
    "name": "ipython",
    "version": 3
   },
   "file_extension": ".py",
   "mimetype": "text/x-python",
   "name": "python",
   "nbconvert_exporter": "python",
   "pygments_lexer": "ipython3",
   "version": "3.7.10"
  }
 },
 "nbformat": 4,
 "nbformat_minor": 5
}
